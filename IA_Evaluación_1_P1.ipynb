{
  "nbformat": 4,
  "nbformat_minor": 0,
  "metadata": {
    "colab": {
      "name": "IA-Evaluación-1-P1.ipynb",
      "provenance": [],
      "collapsed_sections": [],
      "toc_visible": true
    },
    "kernelspec": {
      "name": "python3",
      "display_name": "Python 3"
    }
  },
  "cells": [
    {
      "cell_type": "markdown",
      "metadata": {
        "id": "AXHM_LAHN-HK"
      },
      "source": [
        "## **Integrantes:**\n",
        "- Juan Bojato\n",
        "- Jesus Santiago\n",
        "- Jefferson Sierra"
      ]
    },
    {
      "cell_type": "markdown",
      "metadata": {
        "id": "DucW-gZvN0b4"
      },
      "source": [
        "# **Instrucciones**\n",
        "\n",
        "Para ejecutar el código se deben de seguir las siguientes instrucciones:\n",
        "\n",
        "\n",
        "1.   **Cargar imagen** En la barra lateral izquierda.\n",
        "2.   Presionar Control + F9 (Run All Cells).\n",
        "3. Escribir el nombre de la imagen que se nos pide al final del documento.\n",
        "4.   Ver los resultados al final del documento.\n",
        "\n",
        "\n",
        "\n"
      ]
    },
    {
      "cell_type": "markdown",
      "metadata": {
        "id": "eqYPUjzFNmyM"
      },
      "source": [
        "## **Imagen a Texto -> Obteniendo Matriz de Adyacencia**"
      ]
    },
    {
      "cell_type": "markdown",
      "metadata": {
        "id": "L7YIxtnHtOUP"
      },
      "source": [
        "Para obtener la matriz de adyacencia, se utilizó una librería llamada **Tesseract OCR** y un \"wrapper\" para python de esta librería llamado **pytesseract**. Para obtener un mejor reconocimiento de caracteres con esta librería es necesario primero preprocesar la imagen a través de una serie de ajustes."
      ]
    },
    {
      "cell_type": "markdown",
      "metadata": {
        "id": "z3RSew124Vhm"
      },
      "source": [
        "**Importación e instalación de librerias necesarias**"
      ]
    },
    {
      "cell_type": "code",
      "metadata": {
        "id": "9iyz0H3kN2Gm",
        "outputId": "d48d66a3-3cd5-47b7-ca84-ff238ac36543",
        "colab": {
          "base_uri": "https://localhost:8080/",
          "height": 197
        }
      },
      "source": [
        "!sudo apt install tesseract-ocr\n",
        "!pip3 install pytesseract\n",
        "import shutil\n",
        "import os\n",
        "import random\n",
        "import numpy as np\n",
        "import cv2\n",
        "from pytesseract import Output\n",
        "try:\n",
        " from PIL import Image\n",
        "except ImportError:\n",
        " import Image\n",
        "from google.colab.patches import cv2_imshow"
      ],
      "execution_count": null,
      "outputs": [
        {
          "output_type": "stream",
          "text": [
            "Reading package lists... Done\n",
            "Building dependency tree       \n",
            "Reading state information... Done\n",
            "tesseract-ocr is already the newest version (4.00~git2288-10f4998a-2).\n",
            "The following package was automatically installed and is no longer required:\n",
            "  libnvidia-common-440\n",
            "Use 'sudo apt autoremove' to remove it.\n",
            "0 upgraded, 0 newly installed, 0 to remove and 35 not upgraded.\n",
            "Requirement already satisfied: pytesseract in /usr/local/lib/python3.6/dist-packages (0.3.5)\n",
            "Requirement already satisfied: Pillow in /usr/local/lib/python3.6/dist-packages (from pytesseract) (7.0.0)\n"
          ],
          "name": "stdout"
        }
      ]
    },
    {
      "cell_type": "markdown",
      "metadata": {
        "id": "lmc16GWWMzzg"
      },
      "source": [
        "Importación de 3 librerias esenciales para utilizar Tesseract y declaración de varias funciones útiles para realizar un preprocesamiento de la imagen:"
      ]
    },
    {
      "cell_type": "code",
      "metadata": {
        "id": "D6gRBBzA4Rcz"
      },
      "source": [
        "from PIL import Image\n",
        "import pytesseract\n",
        "import string\n",
        "\n",
        "# Funciones para mejorar la imagen\n",
        "def thresholding(image):\n",
        "    return cv2.threshold(image, 0, 210, cv2.THRESH_BINARY + cv2.THRESH_OTSU)[1]\n",
        "def get_grayscale(image):\n",
        "    return cv2.cvtColor(image, cv2.COLOR_BGR2GRAY)\n",
        "def dilate(image):\n",
        "    kernel = np.ones((5,5),np.uint8)\n",
        "    return cv2.dilate(image, kernel, iterations = 1)\n",
        "def remove_noise(image):\n",
        "    return cv2.medianBlur(image,5)\n",
        "\n"
      ],
      "execution_count": null,
      "outputs": []
    },
    {
      "cell_type": "markdown",
      "metadata": {
        "id": "F71HzgUplpvA"
      },
      "source": [
        "**Funciones para identificar números en el texto extraido de la imagen**"
      ]
    },
    {
      "cell_type": "code",
      "metadata": {
        "id": "kJXIaobVlcRC"
      },
      "source": [
        "#Verifica si una cadena puede ser convertida a entero \n",
        "def isNumber(str):\n",
        "    try:\n",
        "        int(str)\n",
        "        return True\n",
        "    except:\n",
        "        return False\n",
        "\n",
        "#Returna un numero dada una cadena que contiene caracteres númericos y no númericos \n",
        "def fixValue(str):\n",
        "    fixedValue = \"\"\n",
        "    for x in list(str):\n",
        "        if(isNumber(x)):\n",
        "            fixedValue+=x\n",
        "    return int(fixedValue)        \n"
      ],
      "execution_count": null,
      "outputs": []
    },
    {
      "cell_type": "markdown",
      "metadata": {
        "id": "BYFlADA3G_X_"
      },
      "source": [
        "Con la siguiente función, se aplican algunos ajustes a la imagen para adecuarla antes de utilizar la libreria Tesseract. Estos ajustes previos ayudan a disminuir los errores de reconocimiento de caracteres que pueden surgir al momento de utilizar Tesseract. Luego de esto, se muestra la imagen procesada, se extraen los caracteres numéricos y se almacena la matriz de adyacencia en un diccionario que va a ser utilizado en pasos posteriores."
      ]
    },
    {
      "cell_type": "code",
      "metadata": {
        "id": "IhjFKsV3G6Ko"
      },
      "source": [
        "def img_to_text():\n",
        "\n",
        "  # Abecedario:\n",
        "  letters = list(string.ascii_uppercase)\n",
        "\n",
        "  # Texto a imagen      \n",
        "  print(\"Ingresa la ruta de la imagen:\", end=\"\")\n",
        "  path = input();        \n",
        "  image = cv2.imread(path)\n",
        "\n",
        "  #img = cv2.resize(image, None, fx=1.5, fy=1.5, interpolation=cv2.INTER_CUBIC)\n",
        "  img = cv2.resize(image, None,fx=3,fy=3,interpolation=cv2.INTER_CUBIC)\n",
        "\n",
        "  custom_config = r'--oem 3 --psm 6 '\n",
        "  gray = get_grayscale(img)\n",
        "  thresh = thresholding(gray)\n",
        "  cv2_imshow(thresh)\n",
        "  text = pytesseract.image_to_string(thresh, config=custom_config)\n",
        "  #print(text)\n",
        "\n",
        "  # Texto sin espacios al comienzo y al final\n",
        "  stripped_text = text.strip()\n",
        "  rows = stripped_text.split(\"\\n\")\n",
        "\n",
        "  matrix= [i.split(\" \") for i in rows]\n",
        "\n",
        "  # Diccionario en blanco:    \n",
        "  dictionary = {}\n",
        "\n",
        "  greatest = -1;\n",
        "  lowest = 9999;\n",
        "\n",
        "  # Llenar diccionario:\n",
        "  for i in range(1, len(matrix)):\n",
        "    row=[]\n",
        "    for j in range(1, len(matrix[i])):\n",
        "        value = fixValue(matrix[i][j])\n",
        "        if (value!=0):\n",
        "            row.append((letters[j-1], value))\n",
        "            if(value > greatest):\n",
        "              greatest = value\n",
        "              greatestLetter = letters[j-1]\n",
        "            if(value < lowest):\n",
        "              lowest = value\n",
        "              lowestLetter = letters[j-1]\n",
        "        \n",
        "    dictionary[letters[i-1]] = row\n",
        "\n",
        "  print('Matriz de adyacencia:',end=\"\\n\\n\")\n",
        "\n",
        "  for key, value in dictionary.items():\n",
        "      print(key,':',value)\n",
        "  \n",
        "  return dictionary,greatestLetter,lowestLetter"
      ],
      "execution_count": null,
      "outputs": []
    },
    {
      "cell_type": "markdown",
      "metadata": {
        "id": "Kkn3g8rkN5JD"
      },
      "source": [
        "# **Busqueda A***\n",
        "\n",
        "Este algoritmo permite hallar entre la distancia que existe entre el nodo de mayor peso con aquel de menor peso"
      ]
    },
    {
      "cell_type": "markdown",
      "metadata": {
        "id": "uMiKAYsqcSSg"
      },
      "source": [
        "**Variables globales e imports**"
      ]
    },
    {
      "cell_type": "code",
      "metadata": {
        "id": "sbUlX5aCcXeF"
      },
      "source": [
        "from collections import deque\n",
        " \n",
        "distance = {}\n",
        "parents = {}\n",
        "H = {}\n",
        "\n",
        "matrix_adjacency = {\n",
        "        'A': [('B', 5), ('C', 9), ('D', 4)],\n",
        "        'B': [('C', 1), ('A',5)],\n",
        "        'C': [('D', 3),('B', 1),('A', 9),('E',1)],\n",
        "        'D': [('A', 4),('C', 3),('E',5)],\n",
        "        'E': [('C', 1),('D', 5)]\n",
        "}"
      ],
      "execution_count": null,
      "outputs": []
    },
    {
      "cell_type": "markdown",
      "metadata": {
        "id": "3xopvlExcZKO"
      },
      "source": [
        "**Función heuristica**\n",
        "\n",
        "Esta función definida por nosotros está basada en el cuadrado de la cantidad de nodos que tiene el grafo."
      ]
    },
    {
      "cell_type": "code",
      "metadata": {
        "id": "UBDK_BA7cdve"
      },
      "source": [
        "def hfunction (lenght):\n",
        "    ABECEDARIO=\"ABCDEFGHIJKLMNOPQRSTUVWXYZ\"\n",
        "   \n",
        "    for letter in range(0, lenght):\n",
        "        H[ABECEDARIO[letter]] = lenght**2\n",
        "\n",
        "    return H"
      ],
      "execution_count": null,
      "outputs": []
    },
    {
      "cell_type": "markdown",
      "metadata": {
        "id": "SdkMVYR9c6Bp"
      },
      "source": [
        "**Heuristica de un nodo**"
      ]
    },
    {
      "cell_type": "code",
      "metadata": {
        "id": "EiS1KOEOdAS3"
      },
      "source": [
        "def heuristic (n):\n",
        "    return H[n]"
      ],
      "execution_count": null,
      "outputs": []
    },
    {
      "cell_type": "markdown",
      "metadata": {
        "id": "3zdpJnCHdFCR"
      },
      "source": [
        " **Menor valor de f**\n",
        "\n",
        "Dado un valor f equivalente a la suma de dos parametros: **g** y **h**, se busca aquel nodo que posea el menor valor de f. Donde:\n",
        "\n",
        " **g**= El costo que equivale moverse desde el nodo en especifico a otro nodo **(distance)**.\n",
        "\n",
        "**h** = Heuristica de un nodo (heuristic)\n"
      ]
    },
    {
      "cell_type": "code",
      "metadata": {
        "id": "Ghg_Ivhfflkx"
      },
      "source": [
        "def low_value (node,nodesInspected,distance):\n",
        "    for element in nodesInspected:\n",
        "                # f = g + h.\n",
        "                if node == None or distance[element] + heuristic(element) < distance[node] + heuristic(node):\n",
        "                    node = element;\n",
        "                   \n",
        "    return node\n"
      ],
      "execution_count": null,
      "outputs": []
    },
    {
      "cell_type": "markdown",
      "metadata": {
        "id": "wE20oioyftvv"
      },
      "source": [
        "**Función de error**\n",
        "\n",
        "Si un nodo no existe o el grafo está vacio se mostrará el siguiente error:\n"
      ]
    },
    {
      "cell_type": "code",
      "metadata": {
        "id": "V2dOgWkzf6gH"
      },
      "source": [
        "def errorPath (n):\n",
        "    if n == None:\n",
        "        print('Error: No existe un camino')\n",
        "        return None\n",
        "    return False"
      ],
      "execution_count": null,
      "outputs": []
    },
    {
      "cell_type": "markdown",
      "metadata": {
        "id": "g8ElQ0uygMZB"
      },
      "source": [
        "**Camino encontrado!**\n",
        "\n",
        "Cuando se ha terminado de recorrer el grafo y un camino ha sido hallado, se mostrará el camino empleado."
      ]
    },
    {
      "cell_type": "code",
      "metadata": {
        "id": "JhNNo3e9gVpX"
      },
      "source": [
        "\n",
        "def pathFound(n,lowerNode,higherNode,parents):\n",
        "  #Si el nodo visitado equivale al nodo de destino, se traza el camino recorrido.\n",
        "    if n == higherNode:\n",
        "        path = []\n",
        "      #El vector parents contiene los padres de cada nodo visitado correspondientemente.\n",
        "        while parents[n] != n:\n",
        "            path.append(n)\n",
        "            n = parents[n]\n",
        "\n",
        "        path.append(lowerNode)\n",
        "\n",
        "        path.reverse()\n",
        "       \n",
        "        print('Camino encontrado: {}'.format(path))\n",
        "        return None, path\n",
        "    else:\n",
        "        return n,None\n"
      ],
      "execution_count": null,
      "outputs": []
    },
    {
      "cell_type": "markdown",
      "metadata": {
        "id": "tQZHmHhtgeSw"
      },
      "source": [
        "**Función de Busqueda A***\n",
        "\n",
        "En esta función se busca hallar el camino mas corto existente de un nodo a otro. Para ello se recurren a las distancias entre los nodos, sus padres **(parents)** y se separan en dos grupos:\n",
        "\n",
        "**nodesInspected** = Son aquellos nodos que han sido visitados mientras que sus nodos vecinos no.\n",
        "\n",
        "**nodesVisited** = Son aquellos nodos que han sido visitados tanto ellos como sus vecinos.\n"
      ]
    },
    {
      "cell_type": "code",
      "metadata": {
        "id": "93UH2ilhidGq"
      },
      "source": [
        "def search_A(matrix_adjacency,n,nodesInspected,NodesVisited,distance,parents):\n",
        "\n",
        "        for (node, weight) in matrix_adjacency[n]:\n",
        "          # Si un nodo no ha sido visitado se agrega a nodosInspected y se le asigna su respectiva distancia y padre.\n",
        "                if node not in nodesInspected and node not in NodesVisited:\n",
        "                    nodesInspected.add(node)\n",
        "                    parents[node] = n\n",
        "                    distance[node] = distance[n] + weight\n",
        "                else:\n",
        "                  # Si un nodo ha sido visitado pero sus vecinos no, se comprueba si hay una distancia menor a la existente para llegar al nodo.\n",
        "                    if distance[node] > distance[n] + weight:\n",
        "                        distance[node] = distance[n] + weight\n",
        "                        parents[node] = n\n",
        "\n",
        "                        if node in NodesVisited:\n",
        "                          # Cuando un nodo y sus vecinos han sido visitados, se retiran de la búsqueda.\n",
        "                            NodesVisited.remove(node)\n",
        "                            nodesInspected.add(node)\n",
        "       \n",
        "        nodesInspected.remove(n)\n",
        "        NodesVisited.add(n)\n",
        "        print(\"Nodo visitado\",NodesVisited)\n",
        "        return NodesVisited, nodesInspected;\n"
      ],
      "execution_count": null,
      "outputs": []
    },
    {
      "cell_type": "markdown",
      "metadata": {
        "id": "iAgq8XEhigrY"
      },
      "source": [
        "**Método principal**\n",
        "\n",
        "Se declaran las variables inicialmente y se procede a aplicar las funciones vistas con anterioridad hasta que todos los nodos hayan sido visitados, o en su defecto, los nodos que conducen al nodo destino."
      ]
    },
    {
      "cell_type": "code",
      "metadata": {
        "id": "Vv6itzcHHopG"
      },
      "source": [
        "def main(lowerNode, higherNode,matrix_adjacency):\n",
        "        nodesInspected = set([lowerNode])\n",
        "        hfunction(len(matrix_adjacency))\n",
        "        NodesVisited = set([])\n",
        "        distance[lowerNode] = 0\n",
        "        parents[lowerNode] = lowerNode\n",
        "        \n",
        "        while len(nodesInspected) > 0:\n",
        "            n = None\n",
        "            path = []\n",
        "\n",
        "          # Se obtiene el nodo con menor f.\n",
        "            n = low_value(n,nodesInspected,distance)\n",
        "\n",
        "           # Si hay error el algoritmo mostrará el respectivo mensaje.\n",
        "            if(errorPath(n)==None): return None\n",
        "\n",
        "            # se busca si lo hay el camino al nodo destino.\n",
        "            n, path = pathFound(n,lowerNode,higherNode,parents)\n",
        "\n",
        "            # Si ya no hay nodos se retorna el camino.\n",
        "            if(n==None): return path\n",
        "\n",
        "            # Se aplica la Busqueda A*\n",
        "            NodesVisited, nodesInspected = search_A(matrix_adjacency,n,nodesInspected,NodesVisited,distance,parents)\n",
        "\n",
        "        print(\"No existe un camino\")\n",
        "        return None\n",
        "            \n"
      ],
      "execution_count": null,
      "outputs": []
    },
    {
      "cell_type": "markdown",
      "metadata": {
        "id": "0V8RNruWOsx1"
      },
      "source": [
        ""
      ]
    },
    {
      "cell_type": "markdown",
      "metadata": {
        "id": "h8L8npZbO76w"
      },
      "source": [
        "## **Grafo con el camino más corto dibujado**"
      ]
    },
    {
      "cell_type": "markdown",
      "metadata": {
        "id": "6kZoAss03jLG"
      },
      "source": [
        "**Funcion graficar**\n",
        "\n",
        "Se importan las librerias necesarias para realizar dibujar el grafo —matplotlib, networkx, ademas de las librerias numpy para el manejo de arreglos y string para el abecedario—\n",
        "Con la funcion graficar y usando principalmente la libreria networkx dibujamos los nodos con sus respectivos label y las aristas con sus respectivos pesos. Con la libreria string se le asigna automaticamente cada una de las letras a cada nodo y finalmente con la libreria matplotlib se muestra el grafo en pantalla."
      ]
    },
    {
      "cell_type": "code",
      "metadata": {
        "id": "i7yyECalHatR"
      },
      "source": [
        "import matplotlib.pyplot as plt\n",
        "import numpy as np\n",
        "import networkx as nx\n",
        "import string\n",
        "\n",
        "def graficar(caminocorto, matrix_adjacency):\n",
        "  alphabet_string = string.ascii_uppercase\n",
        "  alphabet_list = list(alphabet_string)\n",
        "  \n",
        "  matriz=listtomatriz(matrix_adjacency,  alphabet_list) #Creamos la matriz de adyacencia a partir de la lista de adyacencia\n",
        "  G = nx.from_numpy_matrix(np.array(matriz))#Se crea el grafo a partir de la matriz\n",
        "  pos=nx.spring_layout(G)\n",
        "  \n",
        "  nx.draw_networkx_nodes(G,pos, np.arange(len(list(matrix_adjacency.keys()))), \n",
        "                         node_color='b', node_size=500, alpha=0.7)#Dibujamos todos los nodos del grafo\n",
        "  \n",
        "  nx.draw_networkx_edges(G,pos,edgelist=edges(matriz),width=1,alpha=0.5\n",
        "                         ,edge_color='g')#Dibujamos todas las aristas del grafo\n",
        "  \n",
        "  nx.draw_networkx_edges(G,pos,edgelist=edgesshortcut(caminocorto,alphabet_list)\n",
        "  ,width=5,alpha=0.5,edge_color='r')#Resaltamos las aristas que pertenecen al camino optimo\n",
        "  \n",
        "  labels={}#Se le asigna a cada uno de los nodos su respectiva letra\n",
        "  for i in range(len(list(matrix_adjacency.keys()))): #Recorre todos los nodos\n",
        "    labels[i]=r'$'+alphabet_list[i]+'$'\n",
        "  #Dibujamos la respectiva letra de cada nodo\n",
        "  nx.draw_networkx_labels(G,pos,labels,font_size=16)\n",
        "  \n",
        "  nx.draw_networkx_edge_labels(\n",
        "      G, pos, edge_labels=nx.get_edge_attributes(G, \"weight\"))#Se obtienen y dibujan los pesos de cada arista\n",
        "\n",
        "  plt.axis('off')\n",
        "  plt.show()"
      ],
      "execution_count": null,
      "outputs": []
    },
    {
      "cell_type": "markdown",
      "metadata": {
        "id": "nku1l8ohU4or"
      },
      "source": [
        "**Funcion convertir lista de adyacencia a matriz de adyacencia**\n",
        "\n",
        "Dado que la representacion del grafo esta dada por una lista de adyacencia y la libreria —networkx— requiere como parametro una matriz de adyacencia con pesos para poder dibujar el grafo, convertimos de lista a matriz.\n",
        "Transformamos las letras que representan los nodos en numeros —indices del abecedario— para usarlos como indices en la matriz de adyacencia, luego asignamos el valor del peso en las celdas para representar las conexiones."
      ]
    },
    {
      "cell_type": "code",
      "metadata": {
        "id": "yG1JOJQe3trh"
      },
      "source": [
        "def listtomatriz(matrix_adjacency, alphabet_list):\n",
        "  strings1 = [];strings = []\n",
        "  valores1=[];valores=[]\n",
        "  aristas=list(matrix_adjacency.values())\n",
        "  for i in aristas:\n",
        "    for j in i:\n",
        "        strings1.append(j[0])#Obtenemos las conexiones (letras) de un nodo\n",
        "        valores1.append(j[1])#Obtenemos los pesos de las conexiones de un nodo\n",
        "    strings.append(strings1.copy())#Guardamos las conexiones encontradas\n",
        "    strings1.clear()\n",
        "    valores.append(valores1.copy())#Guardamos los pesos encontrados\n",
        "    valores1.clear() #Limpiamos ambos vectores para la siguiente iteracion\n",
        "\n",
        "  matriz=np.zeros((len(valores),len(valores)))\n",
        "  cont1=0;cont2=0\n",
        "  for i in strings:\n",
        "    for j in i:\n",
        "        #Guardamos el peso de las conexiones usando los indices del abecedario\n",
        "        matriz[cont1][alphabet_list.index(j)]=valores[cont1][cont2]\n",
        "        cont2=cont2+1\n",
        "    cont1=cont1+1\n",
        "    cont2=0   \n",
        "  return matriz"
      ],
      "execution_count": null,
      "outputs": []
    },
    {
      "cell_type": "markdown",
      "metadata": {
        "id": "iQ-b_wHnVNh7"
      },
      "source": [
        "**Funcion aristas**\n",
        "\n",
        "Recorremos la matriz de adyacencia y extraemos los indices i,j de la matriz donde existan conexiones para crear una lista de parejas de nodos para dibujar las respectivas aristas."
      ]
    },
    {
      "cell_type": "code",
      "metadata": {
        "id": "RJLZoWweVPEf"
      },
      "source": [
        "def edges(matriz):\n",
        "  aristas=[]\n",
        "  for i in range(len(matriz[0])):\n",
        "    for j in range(len(matriz[0])):\n",
        "        if(matriz[i][j] != 0):\n",
        "          aristas.append([i,j])#Guardamos solo las conexiones que tienen peso en la matriz de adyacencia (aristas)\n",
        "  aristas = np.array(aristas, dtype='int');tupla=[]#Transformamos los valores de float a int\n",
        "  for i in range(len(aristas)):\n",
        "    tupla.append(tuple(aristas[i]))#Guardamos las aristas como tuplas\n",
        "  return tupla"
      ],
      "execution_count": null,
      "outputs": []
    },
    {
      "cell_type": "markdown",
      "metadata": {
        "id": "IblleTvNVBoW"
      },
      "source": [
        "**Funcion aristas camino corto**\n",
        "\n",
        "La lista de nodos con el camino mas corto tambien es dado en letras, las convertimos a indices del abecedario para enviarlas a la funcion graficar. Recorremos la lista y creamos parejas de nodos para resaltar las aristas del camino optimo en el dibujo final. \n"
      ]
    },
    {
      "cell_type": "code",
      "metadata": {
        "id": "zOH18B1GU6mO"
      },
      "source": [
        "def edgesshortcut(caminocorto,alphabet_list):\n",
        "  aristascamino=[]\n",
        "  for i in range(len(caminocorto)):\n",
        "    caminocorto[i]=alphabet_list.index(caminocorto[i])#Cambiamos las letras por su respectivo numero\n",
        "    if(i>0):#El numero de aristas es menor en una unidad a la de nodos\n",
        "      aristascamino.append(tuple([caminocorto[i-1],caminocorto[i]]))#Guardamos las aristas como tuplas\n",
        "  return aristascamino"
      ],
      "execution_count": null,
      "outputs": []
    },
    {
      "cell_type": "markdown",
      "metadata": {
        "id": "Uh6PJJ0Rj0RK"
      },
      "source": [
        "# **Resultados finales**"
      ]
    },
    {
      "cell_type": "markdown",
      "metadata": {
        "id": "X1knfUTR5phJ"
      },
      "source": [
        "**Imagen a texto**"
      ]
    },
    {
      "cell_type": "code",
      "metadata": {
        "id": "oSs7gQ_65rk1",
        "outputId": "c984103d-3124-449b-9a1f-e0b761800b38",
        "colab": {
          "base_uri": "https://localhost:8080/",
          "height": 576
        }
      },
      "source": [
        "matriz_ad,startNode,endNode = img_to_text()"
      ],
      "execution_count": null,
      "outputs": [
        {
          "output_type": "stream",
          "text": [
            "Ingresa la ruta de la imagen:./large_example.bmp\n"
          ],
          "name": "stdout"
        },
        {
          "output_type": "display_data",
          "data": {
            "image/png": "[encoded data removed]",
            "text/plain": [
              "<PIL.Image.Image image mode=L size=3456x927 at 0x7F9DD767CF60>"
            ]
          },
          "metadata": {
            "tags": []
          }
        },
        {
          "output_type": "stream",
          "text": [
            "Matriz de adyacencia:\n",
            "\n",
            "A : [('B', 5), ('C', 3), ('F', 6), ('N', 1)]\n",
            "B : [('A', 5), ('C', 2), ('I', 7), ('J', 10), ('K', 13)]\n",
            "C : [('A', 3), ('B', 2), ('D', 4), ('E', 9), ('H', 20), ('K', 17)]\n",
            "D : [('C', 4), ('E', 1), ('F', 6), ('G', 10), ('N', 11)]\n",
            "E : [('C', 9), ('D', 1), ('F', 8), ('G', 3), ('I', 14)]\n",
            "F : [('A', 6), ('D', 6), ('E', 8), ('G', 1), ('M', 24), ('N', 11)]\n",
            "G : [('D', 10), ('E', 3), ('F', 1), ('I', 2)]\n",
            "H : [('C', 20), ('I', 12), ('L', 18), ('M', 21)]\n",
            "I : [('B', 7), ('E', 14), ('G', 2), ('H', 12), ('J', 21), ('K', 18)]\n",
            "J : [('B', 10), ('I', 21), ('L', 31)]\n",
            "K : [('B', 13), ('C', 17), ('I', 18), ('L', 42)]\n",
            "L : [('H', 18), ('J', 31), ('K', 42), ('M', 9)]\n",
            "M : [('F', 24), ('H', 21), ('L', 9), ('N', 40)]\n",
            "N : [('A', 1), ('D', 11), ('F', 11), ('M', 40)]\n"
          ],
          "name": "stdout"
        }
      ]
    },
    {
      "cell_type": "markdown",
      "metadata": {
        "id": "j_RT_xedj_UR"
      },
      "source": [
        "**Camino encontrado**"
      ]
    },
    {
      "cell_type": "code",
      "metadata": {
        "id": "mNo-vgVVkCnS",
        "outputId": "00656a26-dffc-41f5-81c9-598a734736ee",
        "colab": {
          "base_uri": "https://localhost:8080/",
          "height": 251
        }
      },
      "source": [
        "caminocorto=main(startNode, endNode,matriz_ad)"
      ],
      "execution_count": null,
      "outputs": [
        {
          "output_type": "stream",
          "text": [
            "Nodo visitado {'L'}\n",
            "Nodo visitado {'M', 'L'}\n",
            "Nodo visitado {'M', 'L', 'H'}\n",
            "Nodo visitado {'M', 'L', 'I', 'H'}\n",
            "Nodo visitado {'L', 'H', 'M', 'I', 'J'}\n",
            "Nodo visitado {'L', 'H', 'M', 'I', 'G', 'J'}\n",
            "Nodo visitado {'L', 'H', 'M', 'I', 'F', 'G', 'J'}\n",
            "Nodo visitado {'E', 'L', 'H', 'M', 'I', 'F', 'G', 'J'}\n",
            "Nodo visitado {'E', 'L', 'D', 'H', 'M', 'I', 'F', 'G', 'J'}\n",
            "Nodo visitado {'E', 'L', 'D', 'B', 'H', 'M', 'I', 'F', 'G', 'J'}\n",
            "Nodo visitado {'E', 'L', 'D', 'C', 'B', 'H', 'M', 'I', 'F', 'G', 'J'}\n",
            "Nodo visitado {'E', 'A', 'L', 'D', 'C', 'B', 'H', 'M', 'I', 'F', 'G', 'J'}\n",
            "Camino encontrado: ['L', 'M', 'F', 'A', 'N']\n"
          ],
          "name": "stdout"
        }
      ]
    },
    {
      "cell_type": "markdown",
      "metadata": {
        "id": "qkGBojvGkD_o"
      },
      "source": [
        "**Grafo con el camino hallado**"
      ]
    },
    {
      "cell_type": "code",
      "metadata": {
        "id": "sJOcrqWwKa12",
        "outputId": "a561c27f-dc4f-4fc1-9636-efef0cf5722a",
        "colab": {
          "base_uri": "https://localhost:8080/",
          "height": 248
        }
      },
      "source": [
        "graficar(caminocorto, matriz_ad)"
      ],
      "execution_count": null,
      "outputs": [
        {
          "output_type": "display_data",
          "data": {
            "image/png": "[encoded data removed]",
            "text/plain": [
              "<Figure size 432x288 with 1 Axes>"
            ]
          },
          "metadata": {
            "tags": []
          }
        }
      ]
    }
  ]
}