{
  "nbformat": 4,
  "nbformat_minor": 0,
  "metadata": {
    "colab": {
      "name": "IA-Evaluación-1-P12.ipynb",
      "provenance": [],
      "collapsed_sections": []
    },
    "kernelspec": {
      "name": "python3",
      "display_name": "Python 3"
    }
  },
  "cells": [
    {
      "cell_type": "markdown",
      "metadata": {
        "id": "S7q0PyS6YgxU"
      },
      "source": [
        "## **Integrantes:**\n",
        "- Juan Bojato\n",
        "- Jesus Santiago\n",
        "- Jefferson Sierra"
      ]
    },
    {
      "cell_type": "markdown",
      "metadata": {
        "id": "tf8hixH1UrHz"
      },
      "source": [
        "## **Instrucciones**\n",
        "\n"
      ]
    },
    {
      "cell_type": "markdown",
      "metadata": {
        "id": "mNh17qheXDCC"
      },
      "source": [
        "Ejecutar todas las celdas (CTRL+F9) y observar los resultados al final de cada punto."
      ]
    },
    {
      "cell_type": "markdown",
      "metadata": {
        "id": "VKV_n5_4YbYy"
      },
      "source": [
        "## **Librerias**"
      ]
    },
    {
      "cell_type": "code",
      "metadata": {
        "id": "wNSKKgARYaFa",
        "outputId": "502a577e-1ddc-40f2-f5cd-8c2c5e244eeb",
        "colab": {
          "base_uri": "https://localhost:8080/",
          "height": 89
        }
      },
      "source": [
        "!pip install scikit-opt\n",
        "!pip install gaft"
      ],
      "execution_count": null,
      "outputs": [
        {
          "output_type": "stream",
          "text": [
            "Requirement already satisfied: scikit-opt in /usr/local/lib/python3.6/dist-packages (0.5.9)\n",
            "Requirement already satisfied: scipy in /usr/local/lib/python3.6/dist-packages (from scikit-opt) (1.4.1)\n",
            "Requirement already satisfied: numpy in /usr/local/lib/python3.6/dist-packages (from scikit-opt) (1.18.5)\n",
            "Requirement already satisfied: gaft in /usr/local/lib/python3.6/dist-packages (0.5.7)\n"
          ],
          "name": "stdout"
        }
      ]
    },
    {
      "cell_type": "markdown",
      "metadata": {
        "id": "pvZdNxsQW_iJ"
      },
      "source": [
        "## **Imports**"
      ]
    },
    {
      "cell_type": "code",
      "metadata": {
        "id": "fsGeF3XgW9sD"
      },
      "source": [
        "import numpy as np\n",
        "from scipy import spatial\n",
        "import matplotlib.pyplot as plt\n",
        "from sko.GA import GA_TSP\n",
        "from gaft import GAEngine\n",
        "from gaft.components import BinaryIndividual\n",
        "from gaft.components import Population\n",
        "from gaft.operators import TournamentSelection\n",
        "from gaft.operators import UniformCrossover\n",
        "from gaft.operators import FlipBitMutation\n",
        "from gaft.plugin_interfaces.analysis import OnTheFlyAnalysis\n",
        "from gaft.analysis.fitness_store import FitnessStore"
      ],
      "execution_count": null,
      "outputs": []
    },
    {
      "cell_type": "markdown",
      "metadata": {
        "id": "HgYSr43HU2_Z"
      },
      "source": [
        "----\n",
        "## **Punto mas alejado del origen de una función**\n"
      ]
    },
    {
      "cell_type": "markdown",
      "metadata": {
        "id": "WnrnAjn5CwYm"
      },
      "source": [
        "- Rango de valores y espaciado entre valores para la función:"
      ]
    },
    {
      "cell_type": "code",
      "metadata": {
        "id": "SRpyiutwC5NP"
      },
      "source": [
        "# start = -0.5\n",
        "# end = 1\n",
        "start = 0\n",
        "end = 1\n",
        "step = 0.001"
      ],
      "execution_count": null,
      "outputs": []
    },
    {
      "cell_type": "markdown",
      "metadata": {
        "id": "r183GsEwC-OO"
      },
      "source": [
        "- Función a evaluar, para incluir funciones como _seno_, _coseno_, _exponencial_, etc se deben usar las funciones de la librería numpy.:"
      ]
    },
    {
      "cell_type": "code",
      "metadata": {
        "id": "R75TT3CqC9lA"
      },
      "source": [
        "def evaluateFunction(x):\n",
        "  fr1 = 1.8\n",
        "  fr2 = 100\n",
        "  fa1 = 0.8*np.pi\n",
        "  k = 0.8\n",
        "  y = (np.sin(x*fr1*np.pi-fa1)+0.25*np.sin(x*fr2*np.pi))*np.exp(-k*x)\n",
        "  return y\n",
        "  \n",
        "  "
      ],
      "execution_count": null,
      "outputs": []
    },
    {
      "cell_type": "markdown",
      "metadata": {
        "id": "xsvVhz-RIh3f"
      },
      "source": [
        "- Definición de la población:"
      ]
    },
    {
      "cell_type": "code",
      "metadata": {
        "id": "ec-SPAyjIig1"
      },
      "source": [
        "indv_template = BinaryIndividual(ranges=[(start, end)], eps=0.001)\n",
        "poblacion = Population(indv_template=indv_template, size=100).init()"
      ],
      "execution_count": null,
      "outputs": []
    },
    {
      "cell_type": "markdown",
      "metadata": {
        "id": "rICQWod_In_-"
      },
      "source": [
        "- Operadores genéticos e instanciación del motor del algoritmo genético"
      ]
    },
    {
      "cell_type": "code",
      "metadata": {
        "id": "P1B-mZVjIvHi"
      },
      "source": [
        "seleccion = TournamentSelection()\n",
        "cruce = UniformCrossover(pc=0.8, pe=0.5)  \n",
        "mutacion = FlipBitMutation(pm=0.3)\n",
        "\n",
        "engine = GAEngine(population=poblacion, selection=seleccion,\n",
        "                  crossover=cruce, mutation=mutacion,\n",
        "                  analysis=[FitnessStore])"
      ],
      "execution_count": null,
      "outputs": []
    },
    {
      "cell_type": "markdown",
      "metadata": {
        "id": "VzAN5bfRJG2e"
      },
      "source": [
        "- Definición de función 'Fitness':"
      ]
    },
    {
      "cell_type": "code",
      "metadata": {
        "id": "MQLe9bCXJYOQ"
      },
      "source": [
        "@engine.fitness_register\n",
        "def fitness(indv):\n",
        "    x, = indv.solution\n",
        "    return np.float(np.abs(evaluateFunction(x)))"
      ],
      "execution_count": null,
      "outputs": []
    },
    {
      "cell_type": "markdown",
      "metadata": {
        "id": "x-32cCW9Jabo"
      },
      "source": [
        "- Definición de análisis durante la ejecución y gráfica de la función en el intervalo previamente especificado:"
      ]
    },
    {
      "cell_type": "code",
      "metadata": {
        "id": "LUlr8cIcU90C",
        "outputId": "59821d04-a9dd-43fb-8915-e05a1d3971a2",
        "colab": {
          "base_uri": "https://localhost:8080/",
          "height": 499
        }
      },
      "source": [
        "@engine.analysis_register\n",
        "class ConsoleOutputAnalysis(OnTheFlyAnalysis):\n",
        "    interval = 1\n",
        "    master_only = True\n",
        " \n",
        "    def register_step(self, g, population, engine):\n",
        "        best_indv = population.best_indv(engine.fitness)\n",
        "        if(g%10 == 0):\n",
        "          print('Generación: {}, Mejor valor Fitness: {:.10f}'.format(g,evaluateFunction(best_indv.solution[0])))#engine.ori_fmax))\n",
        " \n",
        "    def finalize(self, population, engine):\n",
        "        best_indv = population.best_indv(engine.fitness)\n",
        "        x = best_indv.solution\n",
        "        #y = engine.ori_fmax\n",
        "        print('Solución óptima: ({:.10f}, {:.10f})'.format(x[0], evaluateFunction(x[0])))# y)\n",
        "        #print(msg)\n",
        " \n",
        "        # Gráfica:\n",
        "        fig, graph = plt.subplots()\n",
        " \n",
        "        values = np.arange(start, end, step)\n",
        " \n",
        "        plt.axhline(0, color='gray', lw=2)\n",
        "        plt.axvline(0, color='gray', lw=2)\n",
        "        line = graph.plot(values, evaluateFunction(values), lw = 2, color = 'salmon')\n",
        "        \n",
        "        \n",
        "        graph.plot(x[0],evaluateFunction(x[0]), 'og')\n",
        "        plt.grid(color='lightgray', linestyle='-', linewidth='1')\n",
        "        plt.show()\n",
        " \n",
        "if '__main__' == __name__:\n",
        "    # Run the GA engine.\n",
        "    engine.run(ng=101)"
      ],
      "execution_count": null,
      "outputs": [
        {
          "output_type": "stream",
          "text": [
            "Generación: 0, Mejor valor Fitness: -1.0973155260\n",
            "Generación: 10, Mejor valor Fitness: -1.1070679341\n",
            "Generación: 20, Mejor valor Fitness: -1.1070679341\n",
            "Generación: 30, Mejor valor Fitness: -1.1070679341\n",
            "Generación: 40, Mejor valor Fitness: -1.1070679341\n",
            "Generación: 50, Mejor valor Fitness: -1.1070679341\n",
            "Generación: 60, Mejor valor Fitness: -1.1070679341\n",
            "Generación: 70, Mejor valor Fitness: -1.1070679341\n",
            "Generación: 80, Mejor valor Fitness: -1.1070679341\n",
            "Generación: 90, Mejor valor Fitness: -1.1070679341\n",
            "Generación: 100, Mejor valor Fitness: -1.1070679341\n",
            "gaft.FitnessStore   INFO     Best fitness values are written to best_fit.py\n",
            "Solución óptima: (0.1347656250, -1.1070679341)\n"
          ],
          "name": "stdout"
        },
        {
          "output_type": "display_data",
          "data": {
            "image/png": "[encoded data removed]",
            "text/plain": [
              "<Figure size 432x288 with 1 Axes>"
            ]
          },
          "metadata": {
            "tags": [],
            "needs_background": "light"
          }
        }
      ]
    },
    {
      "cell_type": "markdown",
      "metadata": {
        "id": "8zFXHpBsU-Ki"
      },
      "source": [
        "----\n",
        "# **Solución al Problema del Agente Viajero TSP**\n"
      ]
    },
    {
      "cell_type": "markdown",
      "metadata": {
        "id": "9w5JNyS3whfj"
      },
      "source": [
        "## **Valores iniciales**\n",
        "\n",
        "Se define la cantidad de puntos deseada, donde cada punto posee una coordenada X,Y que representa su posición dentro del cuadrado. Dichas coordenadas poseen valores menores que 1 ( Si se quiere trabajar con valores enteros, se debe descomentar el comentario en la sección de abajo).\n",
        "\n",
        "Por ejemplo P(0.35,0.43).\n",
        "\n",
        "La función **distancia_euclidiana** calcula todas las distancias euclidianas entre cada punto posible."
      ]
    },
    {
      "cell_type": "code",
      "metadata": {
        "id": "hFs9roNkYuFi",
        "outputId": "2c3c58f9-e77f-44c5-d04c-43f42fe05fd5",
        "colab": {
          "base_uri": "https://localhost:8080/",
          "height": 449
        }
      },
      "source": [
        "numero_puntos = 12\n",
        "\n",
        "puntos = np.random.rand(numero_puntos, 2)  # Se originan las coordenadas de los puntos\n",
        "#points_coordinate = np.random.randint(100, size=(num_points, 2))\n",
        "\n",
        "distancia_euclidiana = spatial.distance.cdist(puntos, puntos, metric='euclidean')\n",
        "print(distancia_euclidiana)"
      ],
      "execution_count": null,
      "outputs": [
        {
          "output_type": "stream",
          "text": [
            "[[0.         0.36945954 0.38152562 0.52358671 0.74705419 0.46850852\n",
            "  0.13885285 0.14546999 0.18674509 0.69714291 0.72071349 0.25455451]\n",
            " [0.36945954 0.         0.71142684 0.34781361 0.744623   0.69471253\n",
            "  0.45834162 0.22451353 0.44961306 0.73237224 1.03306212 0.61785957]\n",
            " [0.38152562 0.71142684 0.         0.90453158 1.07390613 0.68048284\n",
            "  0.2563586  0.50912241 0.48936047 1.01022555 0.73446409 0.17027043]\n",
            " [0.52358671 0.34781361 0.90453158 0.         0.42656735 0.57036308\n",
            "  0.65788938 0.41812281 0.46401287 0.43776207 0.95507002 0.7617546 ]\n",
            " [0.74705419 0.744623   1.07390613 0.42656735 0.         0.46089931\n",
            "  0.8806269  0.71435636 0.58794742 0.08112459 0.79181777 0.90515876]\n",
            " [0.46850852 0.69471253 0.68048284 0.57036308 0.46089931 0.\n",
            "  0.56244304 0.53106065 0.28520692 0.38216846 0.3858599  0.51306798]\n",
            " [0.13885285 0.45834162 0.2563586  0.65788938 0.8806269  0.56244304\n",
            "  0.         0.253059   0.30154129 0.82727076 0.7515242  0.17681551]\n",
            " [0.14546999 0.22451353 0.50912241 0.41812281 0.71435636 0.53106065\n",
            "  0.253059   0.         0.25421808 0.67831526 0.83268956 0.39778887]\n",
            " [0.18674509 0.44961306 0.48936047 0.46401287 0.58794742 0.28520692\n",
            "  0.30154129 0.25421808 0.         0.52948117 0.58416062 0.32477438]\n",
            " [0.69714291 0.73237224 1.01022555 0.43776207 0.08112459 0.38216846\n",
            "  0.82727076 0.67831526 0.52948117 0.         0.71122619 0.84052394]\n",
            " [0.72071349 1.03306212 0.73446409 0.95507002 0.79181777 0.3858599\n",
            "  0.7515242  0.83268956 0.58416062 0.71122619 0.         0.61492719]\n",
            " [0.25455451 0.61785957 0.17027043 0.7617546  0.90515876 0.51306798\n",
            "  0.17681551 0.39778887 0.32477438 0.84052394 0.61492719 0.        ]]\n"
          ],
          "name": "stdout"
        }
      ]
    },
    {
      "cell_type": "markdown",
      "metadata": {
        "id": "G7_RJnDdXJ2i"
      },
      "source": [
        "### **Calcular distancia entre nodos**\n",
        "\n",
        "Con la función **ca_total_distance** perteneciente a la libreria *sko.GA*, se calcula la distancia más corta posible para recorrer todos los puntos."
      ]
    },
    {
      "cell_type": "code",
      "metadata": {
        "id": "svmKo9qFXVx8"
      },
      "source": [
        "\n",
        "def cal_total_distance(routine):\n",
        "    num_points, = routine.shape\n",
        "    return sum([distancia_euclidiana[routine[i % numero_puntos], routine[(i + 1) % numero_puntos]] for i in range(numero_puntos)])"
      ],
      "execution_count": null,
      "outputs": []
    },
    {
      "cell_type": "markdown",
      "metadata": {
        "id": "mV6u29QAXX_S"
      },
      "source": [
        "### **Método principal**"
      ]
    },
    {
      "cell_type": "markdown",
      "metadata": {
        "id": "UIuktFTCyfq9"
      },
      "source": [
        "Contiene la función GA_TSP que representa la solución del problema del agente viajero mediante algoritmos geneticos. A su vez dicha función nos otorga el camino más corto posible en que se pueden recorrer todos los puntos y la distancia de este camino.\n",
        "\n",
        "Por otra parte, sus parametros son:\n",
        "\n",
        "- **n_dim**: Numero de dimensiones, que en este caso equivale a la cantidad de puntos.\n",
        "-**size_pop**: Equivale a la población a evaluar.\n",
        "-**max_iter**: Número de iteracciones\n",
        "-**prob_mut**: Corresponde a la probabilidad de mutación 0 <= x <= 1"
      ]
    },
    {
      "cell_type": "code",
      "metadata": {
        "id": "8jUNf5uaXKJS"
      },
      "source": [
        "ga_tsp = GA_TSP(func=cal_total_distance, n_dim=numero_puntos, size_pop=20, max_iter=500, prob_mut=1)\n",
        "camino, distancia_total = ga_tsp.run()"
      ],
      "execution_count": null,
      "outputs": []
    },
    {
      "cell_type": "markdown",
      "metadata": {
        "id": "TzS-BfsMYK6y"
      },
      "source": [
        "### **Resultados**"
      ]
    },
    {
      "cell_type": "code",
      "metadata": {
        "id": "5WFlzX6nYMny",
        "outputId": "cb8e3782-d5ea-4b25-f72f-99638d36589d",
        "colab": {
          "base_uri": "https://localhost:8080/",
          "height": 127
        }
      },
      "source": [
        "camino_ = np.concatenate([camino, [camino[0]]])\n",
        "coordenadas = puntos[camino_, :]\n",
        "print(\"Número de puntos iniciales: \",numero_puntos)\n",
        "print(\"Punto de inicio:\",coordenadas[0])\n",
        "print(\"El camino encontrado es el siguiente:\")\n",
        "\n",
        "for i in range(len(coordenadas)):\n",
        "    if i==len(coordenadas)-1:\n",
        "      print(coordenadas[i],end=\"\")\n",
        "    else:\n",
        "      print(coordenadas[i],\" -> \",end=\"\" )\n",
        "        \n",
        "print(\"\")\n",
        "print(\"La distancia total del camino encontrado es: \",distancia_total)\n"
      ],
      "execution_count": null,
      "outputs": [
        {
          "output_type": "stream",
          "text": [
            "Número de puntos iniciales:  12\n",
            "Punto de inicio: [0.48567737 0.49581511]\n",
            "El camino encontrado es el siguiente:\n",
            "[0.48567737 0.49581511]  -> [0.46705177 0.31000118]  -> [0.35981167 0.22179873]  -> [0.10577805 0.18735088]  -> [0.21268875 0.31987304]  -> [0.08567471 0.92153979]  -> [0.44381573 0.77793315]  -> [0.79689601 0.92417625]  -> [0.87739012 0.93427067]  -> [0.94934097 0.51381523]  -> [0.81718914 0.19208521]  -> [0.60768089 0.27278602]  -> [0.48567737 0.49581511]\n",
            "La distancia total del camino encontrado es:  [3.46941967]\n"
          ],
          "name": "stdout"
        }
      ]
    },
    {
      "cell_type": "markdown",
      "metadata": {
        "id": "B2cJEu5Rvnrz"
      },
      "source": [
        "## **Graficos**"
      ]
    },
    {
      "cell_type": "code",
      "metadata": {
        "id": "QmeRjWdlvqN6",
        "outputId": "ddcecc28-0e24-49fc-a11a-0d4a0c2468ab",
        "colab": {
          "base_uri": "https://localhost:8080/",
          "height": 331
        }
      },
      "source": [
        "fig, ax = plt.subplots(1,2,constrained_layout=True)\n",
        "ax[0].set_title('Puntos en el cuadrado')\n",
        "ax[0].set_xlabel('Coordenada x')\n",
        "ax[0].set_ylabel('Coordenada y')\n",
        "ax[0].plot(coordenadas[:, 0], coordenadas[:, 1], 'o-g')\n",
        "print(\"\")\n",
        "ax[1].set_title('Mejor distancia')\n",
        "ax[1].set_xlabel('Número de Iteracciones')\n",
        "ax[1].set_ylabel('Distancia')\n",
        "ax[1].plot(ga_tsp.generation_best_Y)\n",
        "plt.show()"
      ],
      "execution_count": null,
      "outputs": [
        {
          "output_type": "stream",
          "text": [
            "\n"
          ],
          "name": "stdout"
        },
        {
          "output_type": "display_data",
          "data": {
            "image/png": "[encoded data removed]",
            "text/plain": [
              "<Figure size 432x288 with 2 Axes>"
            ]
          },
          "metadata": {
            "tags": [],
            "needs_background": "light"
          }
        }
      ]
    },
    {
      "cell_type": "markdown",
      "metadata": {
        "id": "Uig8UOQZwEkJ"
      },
      "source": [
        "## **Referencias**\n",
        "\n",
        "[1] https://pypi.org/project/geneticalgorithm/\n",
        "\n",
        "[2] https://pypi.org/project/scikit-opt/\n",
        "\n",
        "[3] https://pypi.org/project/gaft/\n",
        "\n",
        "[4] "
      ]
    }
  ]
}